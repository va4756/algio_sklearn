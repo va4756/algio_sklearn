{
  "nbformat": 4,
  "nbformat_minor": 0,
  "metadata": {
    "colab": {
      "provenance": [],
      "authorship_tag": "ABX9TyPVEou9TDCI/pkXsgbLtC1s",
      "include_colab_link": true
    },
    "kernelspec": {
      "name": "python3",
      "display_name": "Python 3"
    },
    "language_info": {
      "name": "python"
    }
  },
  "cells": [
    {
      "cell_type": "markdown",
      "metadata": {
        "id": "view-in-github",
        "colab_type": "text"
      },
      "source": [
        "<a href=\"https://colab.research.google.com/github/va4756/algio_sklearn/blob/main/bigdata_SDEdu_problems.ipynb\" target=\"_parent\"><img src=\"https://colab.research.google.com/assets/colab-badge.svg\" alt=\"Open In Colab\"/></a>"
      ]
    },
    {
      "cell_type": "code",
      "execution_count": null,
      "metadata": {
        "colab": {
          "base_uri": "https://localhost:8080/"
        },
        "id": "mvtpvh8f2eJb",
        "outputId": "2332f130-4977-4550-c772-69edc4994a6e"
      },
      "outputs": [
        {
          "output_type": "stream",
          "name": "stdout",
          "text": [
            "Drive already mounted at /content/drive; to attempt to forcibly remount, call drive.mount(\"/content/drive\", force_remount=True).\n"
          ]
        }
      ],
      "source": [
        "from google.colab import drive\n",
        "drive.mount('/content/drive')"
      ]
    },
    {
      "cell_type": "markdown",
      "source": [
        "# 제 2회 합격모의고사 (p472)"
      ],
      "metadata": {
        "id": "-zdG80hD2_fY"
      }
    },
    {
      "cell_type": "markdown",
      "source": [
        "## I. 작업형 제1유형"
      ],
      "metadata": {
        "id": "8DTa0MNy3D8v"
      }
    },
    {
      "cell_type": "markdown",
      "source": [
        "### 문01) airquality데이터를 사용하여 결측치를 포함하는 모든 행을 제거한 후, Ozone 자료에 대한 상위 60%의 분위값을 출력하시오."
      ],
      "metadata": {
        "id": "Gqe4CbNn3FH1"
      }
    },
    {
      "cell_type": "code",
      "source": [
        "# from sklearn.datasets import load_breast_cancer\n",
        "# import pandas as pd\n",
        "# import numpy as np\n",
        "# df = load_breast_cancer()\n",
        "# df.keys()"
      ],
      "metadata": {
        "colab": {
          "base_uri": "https://localhost:8080/"
        },
        "id": "xo4E08UB2x-6",
        "outputId": "7dc38786-50d1-4dbc-a210-5eada9ee7593"
      },
      "execution_count": null,
      "outputs": [
        {
          "output_type": "execute_result",
          "data": {
            "text/plain": [
              "dict_keys(['data', 'target', 'frame', 'target_names', 'DESCR', 'feature_names', 'filename', 'data_module'])"
            ]
          },
          "metadata": {},
          "execution_count": 4
        }
      ]
    },
    {
      "cell_type": "code",
      "source": [
        "import pandas as pd\n",
        "import numpy as np\n",
        "df = pd.read_csv('/content/airquality.csv', index_col=0)\n",
        "df.head()"
      ],
      "metadata": {
        "id": "gv59GsGi4GyA"
      },
      "execution_count": null,
      "outputs": []
    },
    {
      "cell_type": "code",
      "source": [
        "print(df.shape)\n",
        "df.info()"
      ],
      "metadata": {
        "id": "WJE0Lylw9yTR"
      },
      "execution_count": null,
      "outputs": []
    },
    {
      "cell_type": "code",
      "source": [
        "df_new = df.dropna()\n",
        "df_new.info()"
      ],
      "metadata": {
        "id": "XpfUIvo590OE"
      },
      "execution_count": null,
      "outputs": []
    },
    {
      "cell_type": "code",
      "source": [
        "q6 = df_new['Ozone'].quantile(0.4)\n",
        "print('Ozone의 상위 60%(하위 40%) 사분위 값:', q6)"
      ],
      "metadata": {
        "id": "PYtwFH5d94CT"
      },
      "execution_count": null,
      "outputs": []
    },
    {
      "cell_type": "markdown",
      "source": [
        "### 문2) 위의 1번 자료에서 5월 측정자료에서 5월의 Ozone의 평균값이 24.125이다. 이 때, 평균보다 큰 값으로 측정된 일수를 구하시오"
      ],
      "metadata": {
        "id": "tPZLzV2M9-qg"
      }
    },
    {
      "cell_type": "code",
      "source": [
        "df = pd.read_csv('/content/airquality.csv', index_col=0)\n",
        "df.head()"
      ],
      "metadata": {
        "id": "aTZ7wDx697ks"
      },
      "execution_count": null,
      "outputs": []
    },
    {
      "cell_type": "code",
      "source": [
        "df_new = df.dropna()\n",
        "df_new.info()"
      ],
      "metadata": {
        "id": "hu7dieQZ-DYy"
      },
      "execution_count": null,
      "outputs": []
    },
    {
      "cell_type": "code",
      "source": [
        "df_new5 = df_new[df_new['Month']==5]\n",
        "df_new5.shape"
      ],
      "metadata": {
        "id": "nC8zEkI1-Gcn"
      },
      "execution_count": null,
      "outputs": []
    },
    {
      "cell_type": "code",
      "source": [
        "df_Oz_5_mean = df_new5['Ozone'].mean()\n",
        "df_Oz_5_mean"
      ],
      "metadata": {
        "id": "PjvjLIGn-Mxy"
      },
      "execution_count": null,
      "outputs": []
    },
    {
      "cell_type": "code",
      "source": [
        "result = df_new5[df_new5['Ozone'] >df_Oz_5_mean].Day.count()\n",
        "print('5월 오존의 평균보다 큰값을 가지는 일 수:', result, '일')"
      ],
      "metadata": {
        "id": "n_XtlK9z-QIK"
      },
      "execution_count": null,
      "outputs": []
    },
    {
      "cell_type": "markdown",
      "source": [
        "### 문3) 위의 데이터의 컬럼 중에서 결측치가 가장 많은 항목(컬럼)을 출력하시오."
      ],
      "metadata": {
        "id": "nf_t-82G-UD7"
      }
    },
    {
      "cell_type": "code",
      "source": [
        "df = pd.read_csv('/content/airquality.csv', index_col=0)\n",
        "print(df.shape)\n",
        "df.columns"
      ],
      "metadata": {
        "id": "MhzJHOx2-RdP"
      },
      "execution_count": null,
      "outputs": []
    },
    {
      "cell_type": "code",
      "source": [
        "df_non = df.isnull().sum()\n",
        "df_non"
      ],
      "metadata": {
        "id": "JpTfQNYx-aRZ"
      },
      "execution_count": null,
      "outputs": []
    },
    {
      "cell_type": "code",
      "source": [
        "sort = df_non.sort_values(ascending=False)\n",
        "sort"
      ],
      "metadata": {
        "id": "aXrmSIfC-dIH"
      },
      "execution_count": null,
      "outputs": []
    },
    {
      "cell_type": "code",
      "source": [
        "result1 = sort.index[0]\n",
        "result2 = sort.values[0]\n",
        "print('결측값이 가장 많은 항목', result1)\n",
        "print('결측값이 가장 많은 항목의 결측값 개수: ', result2)"
      ],
      "metadata": {
        "id": "br2cXAb8-gVl"
      },
      "execution_count": null,
      "outputs": []
    },
    {
      "cell_type": "markdown",
      "source": [
        "## II. 작업형 제2유형(p476)"
      ],
      "metadata": {
        "id": "4xhSCzjb-lJM"
      }
    },
    {
      "cell_type": "markdown",
      "source": [
        "### train_commerce.csv 데이터를 사용하고, 전체 데이터에서 70%를 훈련용 데이터 나머지 30%를 테스트용 데이터로 사용하여고객이 제시간에 도착하는지 여부를 예측하시오"
      ],
      "metadata": {
        "id": "utWjJ98S_Rwa"
      }
    },
    {
      "cell_type": "markdown",
      "source": [
        "#### 문1) 독립변수와 종속변수를 문제와 같이 정한다.\n",
        "#### 문2) 랜덤포레스트 모델을 사용하여 분석모델을 구축한다. 단, 트리의 개수는 n=100으로 지정한다.\n",
        "#### 문3) 혼동행렬을 사용하여 성능평가지표를 출력하시오.\n",
        "#### 문4) F1_score, 정확도, 정밀도, 재현율을 구하시오."
      ],
      "metadata": {
        "id": "bJV3uMGW_SwN"
      }
    },
    {
      "cell_type": "code",
      "source": [
        "# 문1\n",
        "import pandas as pd\n",
        "import numpy as np\n",
        "\n",
        "df = pd.read_csv('/content/train_commerce.csv', index_col=0)\n",
        "print(df.shape)\n",
        "df.head()"
      ],
      "metadata": {
        "id": "RI27udkm-nkC"
      },
      "execution_count": null,
      "outputs": []
    },
    {
      "cell_type": "code",
      "source": [
        "df.info()"
      ],
      "metadata": {
        "id": "E5-9MRP1_cQc"
      },
      "execution_count": null,
      "outputs": []
    },
    {
      "cell_type": "code",
      "source": [
        "df.columns"
      ],
      "metadata": {
        "id": "oBOUc6Ht_fUC"
      },
      "execution_count": null,
      "outputs": []
    },
    {
      "cell_type": "code",
      "source": [
        "df = df.dropna()"
      ],
      "metadata": {
        "id": "7hTO43Cz_iNi"
      },
      "execution_count": null,
      "outputs": []
    },
    {
      "cell_type": "code",
      "source": [
        "# 독립변수\n",
        "print(df['Warehouse_block'].unique())\n",
        "print(df['Mode_of_Shipment'].unique())\n",
        "print(df['Product_importance'].unique())\n",
        "print(df['Gender'].unique())\n",
        "#df['Warehouse_block'].value_counts()"
      ],
      "metadata": {
        "id": "tPXAkHsl_noC"
      },
      "execution_count": null,
      "outputs": []
    },
    {
      "cell_type": "code",
      "source": [
        "# 독립변수\n",
        "columns = ['Warehouse_block', 'Mode_of_Shipment', 'Product_importance', 'Gender']\n",
        "\n",
        "unique_dict = {col: df[col].unique() for col in columns}\n",
        "for key, value in unique_dict.items():\n",
        "    print(f'{key}: {value}\\n')"
      ],
      "metadata": {
        "id": "bMUl-x_s_q_D"
      },
      "execution_count": null,
      "outputs": []
    },
    {
      "cell_type": "code",
      "source": [
        "# # 종속변수\n",
        "# df['Reached.on.Time_Y.N'] = df['Reached.on.Time_Y.N'].astype('category')"
      ],
      "metadata": {
        "id": "3PwTOzX-_sEp"
      },
      "execution_count": null,
      "outputs": []
    },
    {
      "cell_type": "code",
      "source": [
        "# X = df.drop('Reached.on.Time_Y.N', axis='columns').to_numpy()\n",
        "# y = df['Reached.on.Time_Y.N'].to_numpy()"
      ],
      "metadata": {
        "id": "rH74uHYv_vVe"
      },
      "execution_count": null,
      "outputs": []
    },
    {
      "cell_type": "code",
      "source": [
        "import numpy as np\n",
        "from sklearn.model_selection import train_test_split\n",
        "from sklearn.ensemble import RandomForestClassifier\n",
        "from sklearn.preprocessing import OneHotEncoder\n",
        "from sklearn.metrics import accuracy_score, classification_report, confusion_matrix\n",
        "\n",
        "df['Reached.on.Time_Y.N'] = df['Reached.on.Time_Y.N'].astype('category')\n",
        "\n",
        "X = df.drop('Reached.on.Time_Y.N', axis='columns')\n",
        "y = df['Reached.on.Time_Y.N']\n",
        "\n",
        "# 범주형 변수 One-Hot Encoding (필요한 경우)\n",
        "encoder = OneHotEncoder(handle_unknown='ignore', sparse_output=False)\n",
        "X_encoded = encoder.fit_transform(X.select_dtypes(include=['object']))  # 범주형 변수 변환\n",
        "X_numeric = X.select_dtypes(exclude=['object']).values  # 숫자형 변수 그대로 유지\n",
        "X_final = np.hstack((X_numeric, X_encoded))  # 변환된 데이터 결합\n",
        "\n",
        "# (2) 데이터 분할\n",
        "X_train, X_test, y_train, y_test = train_test_split(X_final, y, test_size=0.3, random_state=123)\n",
        "\n",
        "# (3) 모델 학습\n",
        "rfc = RandomForestClassifier(n_estimators=100, random_state=123)\n",
        "rfc.fit(X_train, y_train)\n",
        "\n",
        "# (4) 예측 및 평가\n",
        "y_pred = rfc.predict(X_test)\n",
        "\n",
        "# 정확도 출력\n",
        "accuracy = accuracy_score(y_test, y_pred)\n",
        "print(f'Accuracy: {accuracy:.4f}')\n",
        "\n",
        "# 정밀한 평가 지표 출력\n",
        "print(\"Classification Report:\\n\", classification_report(y_test, y_pred))\n",
        "print(\"Confusion Matrix:\\n\", confusion_matrix(y_test, y_pred))\n",
        "\n",
        "# (5) 특성 중요도 시각화 (선택)\n",
        "import matplotlib.pyplot as plt\n",
        "\n",
        "feature_names = list(X.select_dtypes(exclude=['object']).columns) + list(encoder.get_feature_names_out())\n",
        "importances = rfc.feature_importances_\n",
        "indices = np.argsort(importances)[::-1]\n",
        "\n",
        "plt.figure(figsize=(10, 6))\n",
        "plt.title(\"Feature Importances\")\n",
        "plt.bar(range(len(importances)), importances[indices], align=\"center\")\n",
        "plt.xticks(range(len(importances)), [feature_names[i] for i in indices], rotation=90)\n",
        "plt.xlabel(\"Feature\")\n",
        "plt.ylabel(\"Importance Score\")\n",
        "plt.show()"
      ],
      "metadata": {
        "id": "BifJG6QD_x5d"
      },
      "execution_count": null,
      "outputs": []
    }
  ]
}