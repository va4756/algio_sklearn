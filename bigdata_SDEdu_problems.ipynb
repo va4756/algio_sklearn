{
  "nbformat": 4,
  "nbformat_minor": 0,
  "metadata": {
    "colab": {
      "provenance": [],
      "authorship_tag": "ABX9TyPT6H+++c542IL7bmFN/FUF",
      "include_colab_link": true
    },
    "kernelspec": {
      "name": "python3",
      "display_name": "Python 3"
    },
    "language_info": {
      "name": "python"
    }
  },
  "cells": [
    {
      "cell_type": "markdown",
      "metadata": {
        "id": "view-in-github",
        "colab_type": "text"
      },
      "source": [
        "<a href=\"https://colab.research.google.com/github/va4756/algio_sklearn/blob/main/bigdata_SDEdu_problems.ipynb\" target=\"_parent\"><img src=\"https://colab.research.google.com/assets/colab-badge.svg\" alt=\"Open In Colab\"/></a>"
      ]
    },
    {
      "cell_type": "code",
      "execution_count": null,
      "metadata": {
        "colab": {
          "base_uri": "https://localhost:8080/"
        },
        "id": "mvtpvh8f2eJb",
        "outputId": "2332f130-4977-4550-c772-69edc4994a6e"
      },
      "outputs": [
        {
          "output_type": "stream",
          "name": "stdout",
          "text": [
            "Drive already mounted at /content/drive; to attempt to forcibly remount, call drive.mount(\"/content/drive\", force_remount=True).\n"
          ]
        }
      ],
      "source": [
        "from google.colab import drive\n",
        "drive.mount('/content/drive')"
      ]
    },
    {
      "cell_type": "markdown",
      "source": [
        "# 제 2회 합격모의고사 (p472)"
      ],
      "metadata": {
        "id": "-zdG80hD2_fY"
      }
    },
    {
      "cell_type": "markdown",
      "source": [
        "## I. 작업형 제1유형"
      ],
      "metadata": {
        "id": "8DTa0MNy3D8v"
      }
    },
    {
      "cell_type": "markdown",
      "source": [
        "### 문01) airquality데이터를 사용하여 결측치를 포함하는 모든 행을 제거한 후, Ozone 자료에 대한 상위 60%의 분위값을 출력하시오."
      ],
      "metadata": {
        "id": "Gqe4CbNn3FH1"
      }
    },
    {
      "cell_type": "code",
      "source": [
        "# from sklearn.datasets import load_breast_cancer\n",
        "# import pandas as pd\n",
        "# import numpy as np\n",
        "# df = load_breast_cancer()\n",
        "# df.keys()"
      ],
      "metadata": {
        "colab": {
          "base_uri": "https://localhost:8080/"
        },
        "id": "xo4E08UB2x-6",
        "outputId": "7dc38786-50d1-4dbc-a210-5eada9ee7593"
      },
      "execution_count": null,
      "outputs": [
        {
          "output_type": "execute_result",
          "data": {
            "text/plain": [
              "dict_keys(['data', 'target', 'frame', 'target_names', 'DESCR', 'feature_names', 'filename', 'data_module'])"
            ]
          },
          "metadata": {},
          "execution_count": 4
        }
      ]
    },
    {
      "cell_type": "code",
      "source": [
        "import pandas as pd\n",
        "import numpy as np\n",
        "df = pd.read_csv('/content/airquality.csv', index_col=0)\n",
        "df.head()"
      ],
      "metadata": {
        "id": "gv59GsGi4GyA"
      },
      "execution_count": null,
      "outputs": []
    },
    {
      "cell_type": "code",
      "source": [
        "print(df.shape)\n",
        "df.info()"
      ],
      "metadata": {
        "id": "WJE0Lylw9yTR"
      },
      "execution_count": null,
      "outputs": []
    },
    {
      "cell_type": "code",
      "source": [
        "df_new = df.dropna()\n",
        "df_new.info()"
      ],
      "metadata": {
        "id": "XpfUIvo590OE"
      },
      "execution_count": null,
      "outputs": []
    },
    {
      "cell_type": "code",
      "source": [
        "q6 = df_new['Ozone'].quantile(0.4)\n",
        "print('Ozone의 상위 60%(하위 40%) 사분위 값:', q6)"
      ],
      "metadata": {
        "id": "PYtwFH5d94CT"
      },
      "execution_count": null,
      "outputs": []
    },
    {
      "cell_type": "markdown",
      "source": [
        "### 문2) 위의 1번 자료에서 5월 측정자료에서 5월의 Ozone의 평균값이 24.125이다. 이 때, 평균보다 큰 값으로 측정된 일수를 구하시오"
      ],
      "metadata": {
        "id": "tPZLzV2M9-qg"
      }
    },
    {
      "cell_type": "code",
      "source": [
        "df = pd.read_csv('/content/airquality.csv', index_col=0)\n",
        "df.head()"
      ],
      "metadata": {
        "id": "aTZ7wDx697ks"
      },
      "execution_count": null,
      "outputs": []
    },
    {
      "cell_type": "code",
      "source": [
        "df_new = df.dropna()\n",
        "df_new.info()"
      ],
      "metadata": {
        "id": "hu7dieQZ-DYy"
      },
      "execution_count": null,
      "outputs": []
    },
    {
      "cell_type": "code",
      "source": [
        "df_new5 = df_new[df_new['Month']==5]\n",
        "df_new5.shape"
      ],
      "metadata": {
        "id": "nC8zEkI1-Gcn"
      },
      "execution_count": null,
      "outputs": []
    },
    {
      "cell_type": "code",
      "source": [
        "df_Oz_5_mean = df_new5['Ozone'].mean()\n",
        "df_Oz_5_mean"
      ],
      "metadata": {
        "id": "PjvjLIGn-Mxy"
      },
      "execution_count": null,
      "outputs": []
    },
    {
      "cell_type": "code",
      "source": [
        "result = df_new5[df_new5['Ozone'] >df_Oz_5_mean].Day.count()\n",
        "print('5월 오존의 평균보다 큰값을 가지는 일 수:', result, '일')"
      ],
      "metadata": {
        "id": "n_XtlK9z-QIK"
      },
      "execution_count": null,
      "outputs": []
    },
    {
      "cell_type": "markdown",
      "source": [
        "### 문3) 위의 데이터의 컬럼 중에서 결측치가 가장 많은 항목(컬럼)을 출력하시오."
      ],
      "metadata": {
        "id": "nf_t-82G-UD7"
      }
    },
    {
      "cell_type": "code",
      "source": [
        "df = pd.read_csv('/content/airquality.csv', index_col=0)\n",
        "print(df.shape)\n",
        "df.columns"
      ],
      "metadata": {
        "id": "MhzJHOx2-RdP"
      },
      "execution_count": null,
      "outputs": []
    },
    {
      "cell_type": "code",
      "source": [
        "df_non = df.isnull().sum()\n",
        "df_non"
      ],
      "metadata": {
        "id": "JpTfQNYx-aRZ"
      },
      "execution_count": null,
      "outputs": []
    },
    {
      "cell_type": "code",
      "source": [
        "sort = df_non.sort_values(ascending=False)\n",
        "sort"
      ],
      "metadata": {
        "id": "aXrmSIfC-dIH"
      },
      "execution_count": null,
      "outputs": []
    },
    {
      "cell_type": "code",
      "source": [
        "result1 = sort.index[0]\n",
        "result2 = sort.values[0]\n",
        "print('결측값이 가장 많은 항목', result1)\n",
        "print('결측값이 가장 많은 항목의 결측값 개수: ', result2)"
      ],
      "metadata": {
        "id": "br2cXAb8-gVl"
      },
      "execution_count": null,
      "outputs": []
    },
    {
      "cell_type": "markdown",
      "source": [
        "## II. 작업형 제2유형(p476)"
      ],
      "metadata": {
        "id": "4xhSCzjb-lJM"
      }
    },
    {
      "cell_type": "code",
      "source": [],
      "metadata": {
        "id": "RI27udkm-nkC"
      },
      "execution_count": null,
      "outputs": []
    }
  ]
}