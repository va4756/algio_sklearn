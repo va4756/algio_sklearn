{
  "nbformat": 4,
  "nbformat_minor": 0,
  "metadata": {
    "colab": {
      "provenance": [],
      "authorship_tag": "ABX9TyNi8WsFIEo7K0aaGeT0CEqK",
      "include_colab_link": true
    },
    "kernelspec": {
      "name": "python3",
      "display_name": "Python 3"
    },
    "language_info": {
      "name": "python"
    }
  },
  "cells": [
    {
      "cell_type": "markdown",
      "metadata": {
        "id": "view-in-github",
        "colab_type": "text"
      },
      "source": [
        "<a href=\"https://colab.research.google.com/github/va4756/algio_sklearn/blob/main/bigdata_SDEdu_problems.ipynb\" target=\"_parent\"><img src=\"https://colab.research.google.com/assets/colab-badge.svg\" alt=\"Open In Colab\"/></a>"
      ]
    },
    {
      "cell_type": "code",
      "execution_count": 3,
      "metadata": {
        "colab": {
          "base_uri": "https://localhost:8080/"
        },
        "id": "mvtpvh8f2eJb",
        "outputId": "2332f130-4977-4550-c772-69edc4994a6e"
      },
      "outputs": [
        {
          "output_type": "stream",
          "name": "stdout",
          "text": [
            "Drive already mounted at /content/drive; to attempt to forcibly remount, call drive.mount(\"/content/drive\", force_remount=True).\n"
          ]
        }
      ],
      "source": [
        "from google.colab import drive\n",
        "drive.mount('/content/drive')"
      ]
    },
    {
      "cell_type": "markdown",
      "source": [
        "# 제 2회 합격모의고사 (p472)"
      ],
      "metadata": {
        "id": "-zdG80hD2_fY"
      }
    },
    {
      "cell_type": "markdown",
      "source": [
        "## I. 작업형 제1유형"
      ],
      "metadata": {
        "id": "8DTa0MNy3D8v"
      }
    },
    {
      "cell_type": "markdown",
      "source": [
        "### 문01) airquality데이터를 사용하여 결측치를 포함하는 모든 행을 제거한 후, Ozone 자료에 대한 상위 60%의 분위값을 출력하시오."
      ],
      "metadata": {
        "id": "Gqe4CbNn3FH1"
      }
    },
    {
      "cell_type": "code",
      "source": [
        "from sklearn.datasets import load_breast_cancer\n",
        "import pandas as pd\n",
        "import numpy as np\n",
        "df = load_breast_cancer()\n",
        "df.keys()"
      ],
      "metadata": {
        "colab": {
          "base_uri": "https://localhost:8080/"
        },
        "id": "xo4E08UB2x-6",
        "outputId": "7dc38786-50d1-4dbc-a210-5eada9ee7593"
      },
      "execution_count": 4,
      "outputs": [
        {
          "output_type": "execute_result",
          "data": {
            "text/plain": [
              "dict_keys(['data', 'target', 'frame', 'target_names', 'DESCR', 'feature_names', 'filename', 'data_module'])"
            ]
          },
          "metadata": {},
          "execution_count": 4
        }
      ]
    },
    {
      "cell_type": "code",
      "source": [],
      "metadata": {
        "id": "gv59GsGi4GyA"
      },
      "execution_count": 4,
      "outputs": []
    }
  ]
}